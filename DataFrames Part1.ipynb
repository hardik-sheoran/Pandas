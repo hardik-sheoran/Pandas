{
 "cells": [
  {
   "cell_type": "code",
   "execution_count": 2,
   "id": "b70a0ca0",
   "metadata": {},
   "outputs": [],
   "source": [
    "import pandas as pd\n",
    "import numpy as np"
   ]
  },
  {
   "cell_type": "code",
   "execution_count": 3,
   "id": "a7d451f7",
   "metadata": {},
   "outputs": [],
   "source": [
    "from numpy.random import rand"
   ]
  },
  {
   "cell_type": "code",
   "execution_count": 5,
   "id": "00f28d5f",
   "metadata": {},
   "outputs": [],
   "source": [
    "np.random.seed(101)"
   ]
  },
  {
   "cell_type": "code",
   "execution_count": 8,
   "id": "403e4086",
   "metadata": {},
   "outputs": [
    {
     "data": {
      "text/html": [
       "<div>\n",
       "<style scoped>\n",
       "    .dataframe tbody tr th:only-of-type {\n",
       "        vertical-align: middle;\n",
       "    }\n",
       "\n",
       "    .dataframe tbody tr th {\n",
       "        vertical-align: top;\n",
       "    }\n",
       "\n",
       "    .dataframe thead th {\n",
       "        text-align: right;\n",
       "    }\n",
       "</style>\n",
       "<table border=\"1\" class=\"dataframe\">\n",
       "  <thead>\n",
       "    <tr style=\"text-align: right;\">\n",
       "      <th></th>\n",
       "      <th>W</th>\n",
       "      <th>X</th>\n",
       "      <th>Y</th>\n",
       "      <th>Z</th>\n",
       "    </tr>\n",
       "  </thead>\n",
       "  <tbody>\n",
       "    <tr>\n",
       "      <th>A</th>\n",
       "      <td>0.275573</td>\n",
       "      <td>0.672492</td>\n",
       "      <td>0.164303</td>\n",
       "      <td>0.701371</td>\n",
       "    </tr>\n",
       "    <tr>\n",
       "      <th>B</th>\n",
       "      <td>0.487635</td>\n",
       "      <td>0.680678</td>\n",
       "      <td>0.521548</td>\n",
       "      <td>0.043397</td>\n",
       "    </tr>\n",
       "    <tr>\n",
       "      <th>C</th>\n",
       "      <td>0.223937</td>\n",
       "      <td>0.575205</td>\n",
       "      <td>0.120434</td>\n",
       "      <td>0.500117</td>\n",
       "    </tr>\n",
       "    <tr>\n",
       "      <th>D</th>\n",
       "      <td>0.138010</td>\n",
       "      <td>0.052808</td>\n",
       "      <td>0.178277</td>\n",
       "      <td>0.442368</td>\n",
       "    </tr>\n",
       "    <tr>\n",
       "      <th>E</th>\n",
       "      <td>0.877587</td>\n",
       "      <td>0.949264</td>\n",
       "      <td>0.478167</td>\n",
       "      <td>0.461119</td>\n",
       "    </tr>\n",
       "  </tbody>\n",
       "</table>\n",
       "</div>"
      ],
      "text/plain": [
       "          W         X         Y         Z\n",
       "A  0.275573  0.672492  0.164303  0.701371\n",
       "B  0.487635  0.680678  0.521548  0.043397\n",
       "C  0.223937  0.575205  0.120434  0.500117\n",
       "D  0.138010  0.052808  0.178277  0.442368\n",
       "E  0.877587  0.949264  0.478167  0.461119"
      ]
     },
     "execution_count": 8,
     "metadata": {},
     "output_type": "execute_result"
    }
   ],
   "source": [
    "df = pd.DataFrame(rand(5,4),['A','B','C','D','E'],['W','X','Y','Z'])\n",
    "df"
   ]
  },
  {
   "cell_type": "code",
   "execution_count": 11,
   "id": "70952afa",
   "metadata": {},
   "outputs": [
    {
     "data": {
      "text/plain": [
       "A    0.275573\n",
       "B    0.487635\n",
       "C    0.223937\n",
       "D    0.138010\n",
       "E    0.877587\n",
       "Name: W, dtype: float64"
      ]
     },
     "execution_count": 11,
     "metadata": {},
     "output_type": "execute_result"
    }
   ],
   "source": [
    "df['W']"
   ]
  },
  {
   "cell_type": "code",
   "execution_count": 13,
   "id": "22df1cdc",
   "metadata": {},
   "outputs": [
    {
     "data": {
      "text/plain": [
       "(pandas.core.series.Series, pandas.core.frame.DataFrame)"
      ]
     },
     "execution_count": 13,
     "metadata": {},
     "output_type": "execute_result"
    }
   ],
   "source": [
    "type(df['W']),type(df)"
   ]
  },
  {
   "cell_type": "code",
   "execution_count": 15,
   "id": "79dde80c",
   "metadata": {
    "scrolled": true
   },
   "outputs": [
    {
     "data": {
      "text/html": [
       "<div>\n",
       "<style scoped>\n",
       "    .dataframe tbody tr th:only-of-type {\n",
       "        vertical-align: middle;\n",
       "    }\n",
       "\n",
       "    .dataframe tbody tr th {\n",
       "        vertical-align: top;\n",
       "    }\n",
       "\n",
       "    .dataframe thead th {\n",
       "        text-align: right;\n",
       "    }\n",
       "</style>\n",
       "<table border=\"1\" class=\"dataframe\">\n",
       "  <thead>\n",
       "    <tr style=\"text-align: right;\">\n",
       "      <th></th>\n",
       "      <th>W</th>\n",
       "      <th>Z</th>\n",
       "    </tr>\n",
       "  </thead>\n",
       "  <tbody>\n",
       "    <tr>\n",
       "      <th>A</th>\n",
       "      <td>0.275573</td>\n",
       "      <td>0.701371</td>\n",
       "    </tr>\n",
       "    <tr>\n",
       "      <th>B</th>\n",
       "      <td>0.487635</td>\n",
       "      <td>0.043397</td>\n",
       "    </tr>\n",
       "    <tr>\n",
       "      <th>C</th>\n",
       "      <td>0.223937</td>\n",
       "      <td>0.500117</td>\n",
       "    </tr>\n",
       "    <tr>\n",
       "      <th>D</th>\n",
       "      <td>0.138010</td>\n",
       "      <td>0.442368</td>\n",
       "    </tr>\n",
       "    <tr>\n",
       "      <th>E</th>\n",
       "      <td>0.877587</td>\n",
       "      <td>0.461119</td>\n",
       "    </tr>\n",
       "  </tbody>\n",
       "</table>\n",
       "</div>"
      ],
      "text/plain": [
       "          W         Z\n",
       "A  0.275573  0.701371\n",
       "B  0.487635  0.043397\n",
       "C  0.223937  0.500117\n",
       "D  0.138010  0.442368\n",
       "E  0.877587  0.461119"
      ]
     },
     "execution_count": 15,
     "metadata": {},
     "output_type": "execute_result"
    }
   ],
   "source": [
    "df[['W','Z']]"
   ]
  },
  {
   "cell_type": "code",
   "execution_count": 17,
   "id": "f877919c",
   "metadata": {},
   "outputs": [],
   "source": [
    "df['new'] = df['W']+df['Y']"
   ]
  },
  {
   "cell_type": "code",
   "execution_count": 19,
   "id": "19018ba3",
   "metadata": {},
   "outputs": [
    {
     "data": {
      "text/plain": [
       "(A    0.439876\n",
       " B    1.009183\n",
       " C    0.344370\n",
       " D    0.316286\n",
       " E    1.355755\n",
       " Name: new, dtype: float64,\n",
       "           W         X         Y         Z       new\n",
       " A  0.275573  0.672492  0.164303  0.701371  0.439876\n",
       " B  0.487635  0.680678  0.521548  0.043397  1.009183\n",
       " C  0.223937  0.575205  0.120434  0.500117  0.344370\n",
       " D  0.138010  0.052808  0.178277  0.442368  0.316286\n",
       " E  0.877587  0.949264  0.478167  0.461119  1.355755)"
      ]
     },
     "execution_count": 19,
     "metadata": {},
     "output_type": "execute_result"
    }
   ],
   "source": [
    "df.new,df"
   ]
  },
  {
   "cell_type": "code",
   "execution_count": 22,
   "id": "4072070b",
   "metadata": {},
   "outputs": [
    {
     "data": {
      "text/html": [
       "<div>\n",
       "<style scoped>\n",
       "    .dataframe tbody tr th:only-of-type {\n",
       "        vertical-align: middle;\n",
       "    }\n",
       "\n",
       "    .dataframe tbody tr th {\n",
       "        vertical-align: top;\n",
       "    }\n",
       "\n",
       "    .dataframe thead th {\n",
       "        text-align: right;\n",
       "    }\n",
       "</style>\n",
       "<table border=\"1\" class=\"dataframe\">\n",
       "  <thead>\n",
       "    <tr style=\"text-align: right;\">\n",
       "      <th></th>\n",
       "      <th>W</th>\n",
       "      <th>X</th>\n",
       "      <th>Y</th>\n",
       "      <th>Z</th>\n",
       "    </tr>\n",
       "  </thead>\n",
       "  <tbody>\n",
       "    <tr>\n",
       "      <th>A</th>\n",
       "      <td>0.275573</td>\n",
       "      <td>0.672492</td>\n",
       "      <td>0.164303</td>\n",
       "      <td>0.701371</td>\n",
       "    </tr>\n",
       "    <tr>\n",
       "      <th>B</th>\n",
       "      <td>0.487635</td>\n",
       "      <td>0.680678</td>\n",
       "      <td>0.521548</td>\n",
       "      <td>0.043397</td>\n",
       "    </tr>\n",
       "    <tr>\n",
       "      <th>C</th>\n",
       "      <td>0.223937</td>\n",
       "      <td>0.575205</td>\n",
       "      <td>0.120434</td>\n",
       "      <td>0.500117</td>\n",
       "    </tr>\n",
       "    <tr>\n",
       "      <th>D</th>\n",
       "      <td>0.138010</td>\n",
       "      <td>0.052808</td>\n",
       "      <td>0.178277</td>\n",
       "      <td>0.442368</td>\n",
       "    </tr>\n",
       "    <tr>\n",
       "      <th>E</th>\n",
       "      <td>0.877587</td>\n",
       "      <td>0.949264</td>\n",
       "      <td>0.478167</td>\n",
       "      <td>0.461119</td>\n",
       "    </tr>\n",
       "  </tbody>\n",
       "</table>\n",
       "</div>"
      ],
      "text/plain": [
       "          W         X         Y         Z\n",
       "A  0.275573  0.672492  0.164303  0.701371\n",
       "B  0.487635  0.680678  0.521548  0.043397\n",
       "C  0.223937  0.575205  0.120434  0.500117\n",
       "D  0.138010  0.052808  0.178277  0.442368\n",
       "E  0.877587  0.949264  0.478167  0.461119"
      ]
     },
     "execution_count": 22,
     "metadata": {},
     "output_type": "execute_result"
    }
   ],
   "source": [
    "df.drop('new',axis=1)"
   ]
  },
  {
   "cell_type": "code",
   "execution_count": 23,
   "id": "84014aba",
   "metadata": {},
   "outputs": [
    {
     "data": {
      "text/html": [
       "<div>\n",
       "<style scoped>\n",
       "    .dataframe tbody tr th:only-of-type {\n",
       "        vertical-align: middle;\n",
       "    }\n",
       "\n",
       "    .dataframe tbody tr th {\n",
       "        vertical-align: top;\n",
       "    }\n",
       "\n",
       "    .dataframe thead th {\n",
       "        text-align: right;\n",
       "    }\n",
       "</style>\n",
       "<table border=\"1\" class=\"dataframe\">\n",
       "  <thead>\n",
       "    <tr style=\"text-align: right;\">\n",
       "      <th></th>\n",
       "      <th>W</th>\n",
       "      <th>X</th>\n",
       "      <th>Y</th>\n",
       "      <th>Z</th>\n",
       "      <th>new</th>\n",
       "    </tr>\n",
       "  </thead>\n",
       "  <tbody>\n",
       "    <tr>\n",
       "      <th>A</th>\n",
       "      <td>0.275573</td>\n",
       "      <td>0.672492</td>\n",
       "      <td>0.164303</td>\n",
       "      <td>0.701371</td>\n",
       "      <td>0.439876</td>\n",
       "    </tr>\n",
       "    <tr>\n",
       "      <th>B</th>\n",
       "      <td>0.487635</td>\n",
       "      <td>0.680678</td>\n",
       "      <td>0.521548</td>\n",
       "      <td>0.043397</td>\n",
       "      <td>1.009183</td>\n",
       "    </tr>\n",
       "    <tr>\n",
       "      <th>C</th>\n",
       "      <td>0.223937</td>\n",
       "      <td>0.575205</td>\n",
       "      <td>0.120434</td>\n",
       "      <td>0.500117</td>\n",
       "      <td>0.344370</td>\n",
       "    </tr>\n",
       "    <tr>\n",
       "      <th>D</th>\n",
       "      <td>0.138010</td>\n",
       "      <td>0.052808</td>\n",
       "      <td>0.178277</td>\n",
       "      <td>0.442368</td>\n",
       "      <td>0.316286</td>\n",
       "    </tr>\n",
       "    <tr>\n",
       "      <th>E</th>\n",
       "      <td>0.877587</td>\n",
       "      <td>0.949264</td>\n",
       "      <td>0.478167</td>\n",
       "      <td>0.461119</td>\n",
       "      <td>1.355755</td>\n",
       "    </tr>\n",
       "  </tbody>\n",
       "</table>\n",
       "</div>"
      ],
      "text/plain": [
       "          W         X         Y         Z       new\n",
       "A  0.275573  0.672492  0.164303  0.701371  0.439876\n",
       "B  0.487635  0.680678  0.521548  0.043397  1.009183\n",
       "C  0.223937  0.575205  0.120434  0.500117  0.344370\n",
       "D  0.138010  0.052808  0.178277  0.442368  0.316286\n",
       "E  0.877587  0.949264  0.478167  0.461119  1.355755"
      ]
     },
     "execution_count": 23,
     "metadata": {},
     "output_type": "execute_result"
    }
   ],
   "source": [
    "df"
   ]
  },
  {
   "cell_type": "code",
   "execution_count": 24,
   "id": "94664747",
   "metadata": {},
   "outputs": [],
   "source": [
    "df.drop('new',axis=1,inplace=True) #Completely drops the column in the DB"
   ]
  },
  {
   "cell_type": "code",
   "execution_count": 25,
   "id": "96a7b8c0",
   "metadata": {},
   "outputs": [
    {
     "data": {
      "text/html": [
       "<div>\n",
       "<style scoped>\n",
       "    .dataframe tbody tr th:only-of-type {\n",
       "        vertical-align: middle;\n",
       "    }\n",
       "\n",
       "    .dataframe tbody tr th {\n",
       "        vertical-align: top;\n",
       "    }\n",
       "\n",
       "    .dataframe thead th {\n",
       "        text-align: right;\n",
       "    }\n",
       "</style>\n",
       "<table border=\"1\" class=\"dataframe\">\n",
       "  <thead>\n",
       "    <tr style=\"text-align: right;\">\n",
       "      <th></th>\n",
       "      <th>W</th>\n",
       "      <th>X</th>\n",
       "      <th>Y</th>\n",
       "      <th>Z</th>\n",
       "    </tr>\n",
       "  </thead>\n",
       "  <tbody>\n",
       "    <tr>\n",
       "      <th>A</th>\n",
       "      <td>0.275573</td>\n",
       "      <td>0.672492</td>\n",
       "      <td>0.164303</td>\n",
       "      <td>0.701371</td>\n",
       "    </tr>\n",
       "    <tr>\n",
       "      <th>B</th>\n",
       "      <td>0.487635</td>\n",
       "      <td>0.680678</td>\n",
       "      <td>0.521548</td>\n",
       "      <td>0.043397</td>\n",
       "    </tr>\n",
       "    <tr>\n",
       "      <th>C</th>\n",
       "      <td>0.223937</td>\n",
       "      <td>0.575205</td>\n",
       "      <td>0.120434</td>\n",
       "      <td>0.500117</td>\n",
       "    </tr>\n",
       "    <tr>\n",
       "      <th>D</th>\n",
       "      <td>0.138010</td>\n",
       "      <td>0.052808</td>\n",
       "      <td>0.178277</td>\n",
       "      <td>0.442368</td>\n",
       "    </tr>\n",
       "    <tr>\n",
       "      <th>E</th>\n",
       "      <td>0.877587</td>\n",
       "      <td>0.949264</td>\n",
       "      <td>0.478167</td>\n",
       "      <td>0.461119</td>\n",
       "    </tr>\n",
       "  </tbody>\n",
       "</table>\n",
       "</div>"
      ],
      "text/plain": [
       "          W         X         Y         Z\n",
       "A  0.275573  0.672492  0.164303  0.701371\n",
       "B  0.487635  0.680678  0.521548  0.043397\n",
       "C  0.223937  0.575205  0.120434  0.500117\n",
       "D  0.138010  0.052808  0.178277  0.442368\n",
       "E  0.877587  0.949264  0.478167  0.461119"
      ]
     },
     "execution_count": 25,
     "metadata": {},
     "output_type": "execute_result"
    }
   ],
   "source": [
    "df"
   ]
  },
  {
   "cell_type": "code",
   "execution_count": 26,
   "id": "754dc9c7",
   "metadata": {},
   "outputs": [
    {
     "data": {
      "text/html": [
       "<div>\n",
       "<style scoped>\n",
       "    .dataframe tbody tr th:only-of-type {\n",
       "        vertical-align: middle;\n",
       "    }\n",
       "\n",
       "    .dataframe tbody tr th {\n",
       "        vertical-align: top;\n",
       "    }\n",
       "\n",
       "    .dataframe thead th {\n",
       "        text-align: right;\n",
       "    }\n",
       "</style>\n",
       "<table border=\"1\" class=\"dataframe\">\n",
       "  <thead>\n",
       "    <tr style=\"text-align: right;\">\n",
       "      <th></th>\n",
       "      <th>W</th>\n",
       "      <th>X</th>\n",
       "      <th>Y</th>\n",
       "      <th>Z</th>\n",
       "    </tr>\n",
       "  </thead>\n",
       "  <tbody>\n",
       "    <tr>\n",
       "      <th>A</th>\n",
       "      <td>0.275573</td>\n",
       "      <td>0.672492</td>\n",
       "      <td>0.164303</td>\n",
       "      <td>0.701371</td>\n",
       "    </tr>\n",
       "    <tr>\n",
       "      <th>B</th>\n",
       "      <td>0.487635</td>\n",
       "      <td>0.680678</td>\n",
       "      <td>0.521548</td>\n",
       "      <td>0.043397</td>\n",
       "    </tr>\n",
       "    <tr>\n",
       "      <th>C</th>\n",
       "      <td>0.223937</td>\n",
       "      <td>0.575205</td>\n",
       "      <td>0.120434</td>\n",
       "      <td>0.500117</td>\n",
       "    </tr>\n",
       "    <tr>\n",
       "      <th>D</th>\n",
       "      <td>0.138010</td>\n",
       "      <td>0.052808</td>\n",
       "      <td>0.178277</td>\n",
       "      <td>0.442368</td>\n",
       "    </tr>\n",
       "  </tbody>\n",
       "</table>\n",
       "</div>"
      ],
      "text/plain": [
       "          W         X         Y         Z\n",
       "A  0.275573  0.672492  0.164303  0.701371\n",
       "B  0.487635  0.680678  0.521548  0.043397\n",
       "C  0.223937  0.575205  0.120434  0.500117\n",
       "D  0.138010  0.052808  0.178277  0.442368"
      ]
     },
     "execution_count": 26,
     "metadata": {},
     "output_type": "execute_result"
    }
   ],
   "source": [
    "df.drop('E',axis=0)"
   ]
  },
  {
   "cell_type": "code",
   "execution_count": 27,
   "id": "19e95d1d",
   "metadata": {},
   "outputs": [
    {
     "data": {
      "text/html": [
       "<div>\n",
       "<style scoped>\n",
       "    .dataframe tbody tr th:only-of-type {\n",
       "        vertical-align: middle;\n",
       "    }\n",
       "\n",
       "    .dataframe tbody tr th {\n",
       "        vertical-align: top;\n",
       "    }\n",
       "\n",
       "    .dataframe thead th {\n",
       "        text-align: right;\n",
       "    }\n",
       "</style>\n",
       "<table border=\"1\" class=\"dataframe\">\n",
       "  <thead>\n",
       "    <tr style=\"text-align: right;\">\n",
       "      <th></th>\n",
       "      <th>W</th>\n",
       "      <th>X</th>\n",
       "      <th>Y</th>\n",
       "      <th>Z</th>\n",
       "    </tr>\n",
       "  </thead>\n",
       "  <tbody>\n",
       "    <tr>\n",
       "      <th>A</th>\n",
       "      <td>0.275573</td>\n",
       "      <td>0.672492</td>\n",
       "      <td>0.164303</td>\n",
       "      <td>0.701371</td>\n",
       "    </tr>\n",
       "    <tr>\n",
       "      <th>B</th>\n",
       "      <td>0.487635</td>\n",
       "      <td>0.680678</td>\n",
       "      <td>0.521548</td>\n",
       "      <td>0.043397</td>\n",
       "    </tr>\n",
       "    <tr>\n",
       "      <th>C</th>\n",
       "      <td>0.223937</td>\n",
       "      <td>0.575205</td>\n",
       "      <td>0.120434</td>\n",
       "      <td>0.500117</td>\n",
       "    </tr>\n",
       "    <tr>\n",
       "      <th>D</th>\n",
       "      <td>0.138010</td>\n",
       "      <td>0.052808</td>\n",
       "      <td>0.178277</td>\n",
       "      <td>0.442368</td>\n",
       "    </tr>\n",
       "    <tr>\n",
       "      <th>E</th>\n",
       "      <td>0.877587</td>\n",
       "      <td>0.949264</td>\n",
       "      <td>0.478167</td>\n",
       "      <td>0.461119</td>\n",
       "    </tr>\n",
       "  </tbody>\n",
       "</table>\n",
       "</div>"
      ],
      "text/plain": [
       "          W         X         Y         Z\n",
       "A  0.275573  0.672492  0.164303  0.701371\n",
       "B  0.487635  0.680678  0.521548  0.043397\n",
       "C  0.223937  0.575205  0.120434  0.500117\n",
       "D  0.138010  0.052808  0.178277  0.442368\n",
       "E  0.877587  0.949264  0.478167  0.461119"
      ]
     },
     "execution_count": 27,
     "metadata": {},
     "output_type": "execute_result"
    }
   ],
   "source": [
    "df"
   ]
  },
  {
   "cell_type": "code",
   "execution_count": 29,
   "id": "06c411a8",
   "metadata": {},
   "outputs": [],
   "source": [
    "df.drop('E',inplace=True)"
   ]
  },
  {
   "cell_type": "code",
   "execution_count": 30,
   "id": "56a988ec",
   "metadata": {},
   "outputs": [
    {
     "data": {
      "text/html": [
       "<div>\n",
       "<style scoped>\n",
       "    .dataframe tbody tr th:only-of-type {\n",
       "        vertical-align: middle;\n",
       "    }\n",
       "\n",
       "    .dataframe tbody tr th {\n",
       "        vertical-align: top;\n",
       "    }\n",
       "\n",
       "    .dataframe thead th {\n",
       "        text-align: right;\n",
       "    }\n",
       "</style>\n",
       "<table border=\"1\" class=\"dataframe\">\n",
       "  <thead>\n",
       "    <tr style=\"text-align: right;\">\n",
       "      <th></th>\n",
       "      <th>W</th>\n",
       "      <th>X</th>\n",
       "      <th>Y</th>\n",
       "      <th>Z</th>\n",
       "    </tr>\n",
       "  </thead>\n",
       "  <tbody>\n",
       "    <tr>\n",
       "      <th>A</th>\n",
       "      <td>0.275573</td>\n",
       "      <td>0.672492</td>\n",
       "      <td>0.164303</td>\n",
       "      <td>0.701371</td>\n",
       "    </tr>\n",
       "    <tr>\n",
       "      <th>B</th>\n",
       "      <td>0.487635</td>\n",
       "      <td>0.680678</td>\n",
       "      <td>0.521548</td>\n",
       "      <td>0.043397</td>\n",
       "    </tr>\n",
       "    <tr>\n",
       "      <th>C</th>\n",
       "      <td>0.223937</td>\n",
       "      <td>0.575205</td>\n",
       "      <td>0.120434</td>\n",
       "      <td>0.500117</td>\n",
       "    </tr>\n",
       "    <tr>\n",
       "      <th>D</th>\n",
       "      <td>0.138010</td>\n",
       "      <td>0.052808</td>\n",
       "      <td>0.178277</td>\n",
       "      <td>0.442368</td>\n",
       "    </tr>\n",
       "  </tbody>\n",
       "</table>\n",
       "</div>"
      ],
      "text/plain": [
       "          W         X         Y         Z\n",
       "A  0.275573  0.672492  0.164303  0.701371\n",
       "B  0.487635  0.680678  0.521548  0.043397\n",
       "C  0.223937  0.575205  0.120434  0.500117\n",
       "D  0.138010  0.052808  0.178277  0.442368"
      ]
     },
     "execution_count": 30,
     "metadata": {},
     "output_type": "execute_result"
    }
   ],
   "source": [
    "df"
   ]
  },
  {
   "cell_type": "code",
   "execution_count": 32,
   "id": "25b84f05",
   "metadata": {},
   "outputs": [
    {
     "data": {
      "text/plain": [
       "(4, 4)"
      ]
     },
     "execution_count": 32,
     "metadata": {},
     "output_type": "execute_result"
    }
   ],
   "source": [
    "df.shape"
   ]
  },
  {
   "cell_type": "code",
   "execution_count": 34,
   "id": "2122ad84",
   "metadata": {},
   "outputs": [
    {
     "data": {
      "text/html": [
       "<div>\n",
       "<style scoped>\n",
       "    .dataframe tbody tr th:only-of-type {\n",
       "        vertical-align: middle;\n",
       "    }\n",
       "\n",
       "    .dataframe tbody tr th {\n",
       "        vertical-align: top;\n",
       "    }\n",
       "\n",
       "    .dataframe thead th {\n",
       "        text-align: right;\n",
       "    }\n",
       "</style>\n",
       "<table border=\"1\" class=\"dataframe\">\n",
       "  <thead>\n",
       "    <tr style=\"text-align: right;\">\n",
       "      <th></th>\n",
       "      <th>W</th>\n",
       "      <th>X</th>\n",
       "      <th>Y</th>\n",
       "      <th>Z</th>\n",
       "    </tr>\n",
       "  </thead>\n",
       "  <tbody>\n",
       "    <tr>\n",
       "      <th>A</th>\n",
       "      <td>0.275573</td>\n",
       "      <td>0.672492</td>\n",
       "      <td>0.164303</td>\n",
       "      <td>0.701371</td>\n",
       "    </tr>\n",
       "    <tr>\n",
       "      <th>B</th>\n",
       "      <td>0.487635</td>\n",
       "      <td>0.680678</td>\n",
       "      <td>0.521548</td>\n",
       "      <td>0.043397</td>\n",
       "    </tr>\n",
       "    <tr>\n",
       "      <th>C</th>\n",
       "      <td>0.223937</td>\n",
       "      <td>0.575205</td>\n",
       "      <td>0.120434</td>\n",
       "      <td>0.500117</td>\n",
       "    </tr>\n",
       "    <tr>\n",
       "      <th>D</th>\n",
       "      <td>0.138010</td>\n",
       "      <td>0.052808</td>\n",
       "      <td>0.178277</td>\n",
       "      <td>0.442368</td>\n",
       "    </tr>\n",
       "  </tbody>\n",
       "</table>\n",
       "</div>"
      ],
      "text/plain": [
       "          W         X         Y         Z\n",
       "A  0.275573  0.672492  0.164303  0.701371\n",
       "B  0.487635  0.680678  0.521548  0.043397\n",
       "C  0.223937  0.575205  0.120434  0.500117\n",
       "D  0.138010  0.052808  0.178277  0.442368"
      ]
     },
     "execution_count": 34,
     "metadata": {},
     "output_type": "execute_result"
    }
   ],
   "source": [
    "df"
   ]
  },
  {
   "cell_type": "code",
   "execution_count": 40,
   "id": "433d0253",
   "metadata": {},
   "outputs": [
    {
     "data": {
      "text/plain": [
       "W    0.223937\n",
       "X    0.575205\n",
       "Y    0.120434\n",
       "Z    0.500117\n",
       "Name: C, dtype: float64"
      ]
     },
     "execution_count": 40,
     "metadata": {},
     "output_type": "execute_result"
    }
   ],
   "source": [
    "df.loc['C'] # works on label based index position"
   ]
  },
  {
   "cell_type": "code",
   "execution_count": 38,
   "id": "4c23ac2f",
   "metadata": {},
   "outputs": [
    {
     "data": {
      "text/plain": [
       "W    0.223937\n",
       "X    0.575205\n",
       "Y    0.120434\n",
       "Z    0.500117\n",
       "Name: C, dtype: float64"
      ]
     },
     "execution_count": 38,
     "metadata": {},
     "output_type": "execute_result"
    }
   ],
   "source": [
    "df.iloc[2] # Works on integer based index location"
   ]
  },
  {
   "cell_type": "code",
   "execution_count": 42,
   "id": "32aafc23",
   "metadata": {},
   "outputs": [
    {
     "data": {
      "text/plain": [
       "0.5215481923258594"
      ]
     },
     "execution_count": 42,
     "metadata": {},
     "output_type": "execute_result"
    }
   ],
   "source": [
    "df.loc['B','Y'] # Returns value at this junction"
   ]
  },
  {
   "cell_type": "code",
   "execution_count": 44,
   "id": "22bcb065",
   "metadata": {},
   "outputs": [
    {
     "data": {
      "text/html": [
       "<div>\n",
       "<style scoped>\n",
       "    .dataframe tbody tr th:only-of-type {\n",
       "        vertical-align: middle;\n",
       "    }\n",
       "\n",
       "    .dataframe tbody tr th {\n",
       "        vertical-align: top;\n",
       "    }\n",
       "\n",
       "    .dataframe thead th {\n",
       "        text-align: right;\n",
       "    }\n",
       "</style>\n",
       "<table border=\"1\" class=\"dataframe\">\n",
       "  <thead>\n",
       "    <tr style=\"text-align: right;\">\n",
       "      <th></th>\n",
       "      <th>W</th>\n",
       "      <th>Y</th>\n",
       "    </tr>\n",
       "  </thead>\n",
       "  <tbody>\n",
       "    <tr>\n",
       "      <th>A</th>\n",
       "      <td>0.275573</td>\n",
       "      <td>0.164303</td>\n",
       "    </tr>\n",
       "    <tr>\n",
       "      <th>B</th>\n",
       "      <td>0.487635</td>\n",
       "      <td>0.521548</td>\n",
       "    </tr>\n",
       "  </tbody>\n",
       "</table>\n",
       "</div>"
      ],
      "text/plain": [
       "          W         Y\n",
       "A  0.275573  0.164303\n",
       "B  0.487635  0.521548"
      ]
     },
     "execution_count": 44,
     "metadata": {},
     "output_type": "execute_result"
    }
   ],
   "source": [
    "df.loc[['A','B'],['W','Y']] #Gives the subset of the dataFrames"
   ]
  },
  {
   "cell_type": "code",
   "execution_count": null,
   "id": "c519342b",
   "metadata": {},
   "outputs": [],
   "source": []
  }
 ],
 "metadata": {
  "kernelspec": {
   "display_name": "Python 3 (ipykernel)",
   "language": "python",
   "name": "python3"
  },
  "language_info": {
   "codemirror_mode": {
    "name": "ipython",
    "version": 3
   },
   "file_extension": ".py",
   "mimetype": "text/x-python",
   "name": "python",
   "nbconvert_exporter": "python",
   "pygments_lexer": "ipython3",
   "version": "3.9.7"
  }
 },
 "nbformat": 4,
 "nbformat_minor": 5
}
